{
 "cells": [
  {
   "cell_type": "markdown",
   "id": "497a1613",
   "metadata": {},
   "source": [
    "## Assignment 3 - Classification\n"
   ]
  },
  {
   "cell_type": "markdown",
   "id": "49df2d71",
   "metadata": {},
   "source": [
    "Name: Aviv Yefet\n",
    "\n",
    "ID: 208495267"
   ]
  },
  {
   "cell_type": "markdown",
   "id": "b713c83a",
   "metadata": {},
   "source": [
    "### Import\n"
   ]
  },
  {
   "cell_type": "code",
   "execution_count": 2,
   "id": "a4a9b25b",
   "metadata": {},
   "outputs": [],
   "source": [
    "import numpy as np\n",
    "import pandas as pd\n",
    "import matplotlib.pyplot as plt\n",
    "\n",
    "import warnings\n",
    "warnings.filterwarnings('ignore')\n"
   ]
  },
  {
   "cell_type": "markdown",
   "id": "51eeeba5",
   "metadata": {},
   "source": [
    "### Load dataset - NMIST"
   ]
  },
  {
   "cell_type": "code",
   "execution_count": 3,
   "id": "f19128dd",
   "metadata": {},
   "outputs": [
    {
     "data": {
      "text/html": [
       "<div>\n",
       "<style scoped>\n",
       "    .dataframe tbody tr th:only-of-type {\n",
       "        vertical-align: middle;\n",
       "    }\n",
       "\n",
       "    .dataframe tbody tr th {\n",
       "        vertical-align: top;\n",
       "    }\n",
       "\n",
       "    .dataframe thead th {\n",
       "        text-align: right;\n",
       "    }\n",
       "</style>\n",
       "<table border=\"1\" class=\"dataframe\">\n",
       "  <thead>\n",
       "    <tr style=\"text-align: right;\">\n",
       "      <th></th>\n",
       "      <th>0</th>\n",
       "      <th>1</th>\n",
       "      <th>2</th>\n",
       "      <th>3</th>\n",
       "      <th>4</th>\n",
       "      <th>5</th>\n",
       "      <th>6</th>\n",
       "      <th>7</th>\n",
       "      <th>8</th>\n",
       "      <th>9</th>\n",
       "      <th>...</th>\n",
       "      <th>775</th>\n",
       "      <th>776</th>\n",
       "      <th>777</th>\n",
       "      <th>778</th>\n",
       "      <th>779</th>\n",
       "      <th>780</th>\n",
       "      <th>781</th>\n",
       "      <th>782</th>\n",
       "      <th>783</th>\n",
       "      <th>784</th>\n",
       "    </tr>\n",
       "  </thead>\n",
       "  <tbody>\n",
       "    <tr>\n",
       "      <th>0</th>\n",
       "      <td>5</td>\n",
       "      <td>0</td>\n",
       "      <td>0</td>\n",
       "      <td>0</td>\n",
       "      <td>0</td>\n",
       "      <td>0</td>\n",
       "      <td>0</td>\n",
       "      <td>0</td>\n",
       "      <td>0</td>\n",
       "      <td>0</td>\n",
       "      <td>...</td>\n",
       "      <td>0</td>\n",
       "      <td>0</td>\n",
       "      <td>0</td>\n",
       "      <td>0</td>\n",
       "      <td>0</td>\n",
       "      <td>0</td>\n",
       "      <td>0</td>\n",
       "      <td>0</td>\n",
       "      <td>0</td>\n",
       "      <td>0</td>\n",
       "    </tr>\n",
       "    <tr>\n",
       "      <th>1</th>\n",
       "      <td>0</td>\n",
       "      <td>0</td>\n",
       "      <td>0</td>\n",
       "      <td>0</td>\n",
       "      <td>0</td>\n",
       "      <td>0</td>\n",
       "      <td>0</td>\n",
       "      <td>0</td>\n",
       "      <td>0</td>\n",
       "      <td>0</td>\n",
       "      <td>...</td>\n",
       "      <td>0</td>\n",
       "      <td>0</td>\n",
       "      <td>0</td>\n",
       "      <td>0</td>\n",
       "      <td>0</td>\n",
       "      <td>0</td>\n",
       "      <td>0</td>\n",
       "      <td>0</td>\n",
       "      <td>0</td>\n",
       "      <td>0</td>\n",
       "    </tr>\n",
       "    <tr>\n",
       "      <th>2</th>\n",
       "      <td>4</td>\n",
       "      <td>0</td>\n",
       "      <td>0</td>\n",
       "      <td>0</td>\n",
       "      <td>0</td>\n",
       "      <td>0</td>\n",
       "      <td>0</td>\n",
       "      <td>0</td>\n",
       "      <td>0</td>\n",
       "      <td>0</td>\n",
       "      <td>...</td>\n",
       "      <td>0</td>\n",
       "      <td>0</td>\n",
       "      <td>0</td>\n",
       "      <td>0</td>\n",
       "      <td>0</td>\n",
       "      <td>0</td>\n",
       "      <td>0</td>\n",
       "      <td>0</td>\n",
       "      <td>0</td>\n",
       "      <td>0</td>\n",
       "    </tr>\n",
       "    <tr>\n",
       "      <th>3</th>\n",
       "      <td>1</td>\n",
       "      <td>0</td>\n",
       "      <td>0</td>\n",
       "      <td>0</td>\n",
       "      <td>0</td>\n",
       "      <td>0</td>\n",
       "      <td>0</td>\n",
       "      <td>0</td>\n",
       "      <td>0</td>\n",
       "      <td>0</td>\n",
       "      <td>...</td>\n",
       "      <td>0</td>\n",
       "      <td>0</td>\n",
       "      <td>0</td>\n",
       "      <td>0</td>\n",
       "      <td>0</td>\n",
       "      <td>0</td>\n",
       "      <td>0</td>\n",
       "      <td>0</td>\n",
       "      <td>0</td>\n",
       "      <td>0</td>\n",
       "    </tr>\n",
       "    <tr>\n",
       "      <th>4</th>\n",
       "      <td>9</td>\n",
       "      <td>0</td>\n",
       "      <td>0</td>\n",
       "      <td>0</td>\n",
       "      <td>0</td>\n",
       "      <td>0</td>\n",
       "      <td>0</td>\n",
       "      <td>0</td>\n",
       "      <td>0</td>\n",
       "      <td>0</td>\n",
       "      <td>...</td>\n",
       "      <td>0</td>\n",
       "      <td>0</td>\n",
       "      <td>0</td>\n",
       "      <td>0</td>\n",
       "      <td>0</td>\n",
       "      <td>0</td>\n",
       "      <td>0</td>\n",
       "      <td>0</td>\n",
       "      <td>0</td>\n",
       "      <td>0</td>\n",
       "    </tr>\n",
       "  </tbody>\n",
       "</table>\n",
       "<p>5 rows × 785 columns</p>\n",
       "</div>"
      ],
      "text/plain": [
       "   0    1    2    3    4    5    6    7    8    9    ...  775  776  777  778  \\\n",
       "0    5    0    0    0    0    0    0    0    0    0  ...    0    0    0    0   \n",
       "1    0    0    0    0    0    0    0    0    0    0  ...    0    0    0    0   \n",
       "2    4    0    0    0    0    0    0    0    0    0  ...    0    0    0    0   \n",
       "3    1    0    0    0    0    0    0    0    0    0  ...    0    0    0    0   \n",
       "4    9    0    0    0    0    0    0    0    0    0  ...    0    0    0    0   \n",
       "\n",
       "   779  780  781  782  783  784  \n",
       "0    0    0    0    0    0    0  \n",
       "1    0    0    0    0    0    0  \n",
       "2    0    0    0    0    0    0  \n",
       "3    0    0    0    0    0    0  \n",
       "4    0    0    0    0    0    0  \n",
       "\n",
       "[5 rows x 785 columns]"
      ]
     },
     "execution_count": 3,
     "metadata": {},
     "output_type": "execute_result"
    }
   ],
   "source": [
    "# Importing the dataset\n",
    "\n",
    "path = 'C:\\\\Users\\\\nbloc\\\\Desktop\\\\4Year\\\\ML\\HW3\\\\'\n",
    "file = 'mnist.csv'\n",
    "nmist = pd.read_csv(path + file, header=None)\n",
    "\n",
    "nmist.head()"
   ]
  },
  {
   "cell_type": "markdown",
   "id": "55c1b886",
   "metadata": {},
   "source": [
    "### Dependent and Independent variables"
   ]
  },
  {
   "cell_type": "code",
   "execution_count": 4,
   "id": "45d929aa",
   "metadata": {},
   "outputs": [
    {
     "name": "stdout",
     "output_type": "stream",
     "text": [
      "(70000, 784) (70000,)\n",
      "0        5\n",
      "1        0\n",
      "2        4\n",
      "3        1\n",
      "4        9\n",
      "        ..\n",
      "69995    2\n",
      "69996    3\n",
      "69997    4\n",
      "69998    5\n",
      "69999    6\n",
      "Name: 0, Length: 70000, dtype: int64\n"
     ]
    }
   ],
   "source": [
    "# Dependent variable: number between 0 to 9\n",
    "y = nmist.loc[:,0] \n",
    "\n",
    "# Insependent variables: 784 pixel witch create image of the number (24X24)\n",
    "X = nmist.loc[:,1:].to_numpy()\n",
    "\n",
    "print(X.shape ,y.shape)\n",
    "print(y)"
   ]
  },
  {
   "cell_type": "code",
   "execution_count": 6,
   "id": "1030efb1",
   "metadata": {},
   "outputs": [
    {
     "data": {
      "text/plain": [
       "1    7877\n",
       "7    7293\n",
       "3    7141\n",
       "2    6990\n",
       "9    6958\n",
       "0    6903\n",
       "6    6876\n",
       "8    6825\n",
       "4    6824\n",
       "5    6313\n",
       "Name: 0, dtype: int64"
      ]
     },
     "execution_count": 6,
     "metadata": {},
     "output_type": "execute_result"
    }
   ],
   "source": [
    "y.value_counts()"
   ]
  },
  {
   "cell_type": "code",
   "execution_count": 4,
   "id": "bf0540a9",
   "metadata": {},
   "outputs": [
    {
     "data": {
      "image/png": "[encoded data removed]",
      "text/plain": [
       "<Figure size 640x480 with 9 Axes>"
      ]
     },
     "metadata": {},
     "output_type": "display_data"
    }
   ],
   "source": [
    "for i in range(9): \n",
    "    plt.subplot(3, 3, i+1)\n",
    "    plt.imshow(X[i].reshape(28, 28))\n",
    "plt.show()"
   ]
  },
  {
   "cell_type": "markdown",
   "id": "f7fe6741",
   "metadata": {},
   "source": [
    "## Classification models"
   ]
  },
  {
   "cell_type": "markdown",
   "id": "71803e3e",
   "metadata": {},
   "source": [
    "Creating three classification models: Decision tree, Random forest and Logistic regression and reporting the models’ performance (accuracy, recall, precision, f1-score and AUC)\n"
   ]
  },
  {
   "cell_type": "code",
   "execution_count": 5,
   "id": "8abf4ee3",
   "metadata": {},
   "outputs": [],
   "source": [
    "# Create df for each model:\n",
    "# the df will contain the mean and standard deviation for each metric of each model\n",
    "\n",
    "\n",
    "decision_tree_df = pd.DataFrame(columns = ['Metric','Mean','S.D'])\n",
    "random_forest_df = pd.DataFrame(columns = ['Metric','Mean','S.D'])\n",
    "ovo_logistic_df = pd.DataFrame(columns = ['Metric','Mean','S.D'])\n",
    "ovr_logistic_df = pd.DataFrame(columns = ['Metric','Mean','S.D'])\n"
   ]
  },
  {
   "cell_type": "markdown",
   "id": "5e2ed835",
   "metadata": {},
   "source": [
    "### Decision Tree "
   ]
  },
  {
   "cell_type": "code",
   "execution_count": 6,
   "id": "61d8e009",
   "metadata": {},
   "outputs": [],
   "source": [
    "from sklearn.tree import DecisionTreeClassifier\n",
    "from sklearn.model_selection import cross_validate\n",
    "\n",
    "tree_model = DecisionTreeClassifier(max_depth=15,random_state=0)\n",
    "scoring = ('accuracy','precision_macro', 'recall_macro','f1_macro','roc_auc_ovr')\n",
    "\n",
    "cv_scores = cross_validate(tree_model, X, y, cv = 10, scoring = scoring)  # Stratified K Fold\n",
    "\n",
    "for score in scoring:\n",
    "    score_test = 'test_'+ score\n",
    "    score_mean = cv_scores[score_test].mean()\n",
    "    score_sd = cv_scores[score_test].std()\n",
    "    decision_tree_df = decision_tree_df.append({'Metric': score,'Mean': score_mean ,'S.D': score_sd}, ignore_index = True)\n",
    "    "
   ]
  },
  {
   "cell_type": "code",
   "execution_count": 7,
   "id": "e9a14bf5",
   "metadata": {
    "scrolled": true
   },
   "outputs": [
    {
     "data": {
      "text/plain": [
       "{'fit_time': array([15.96653605, 15.90548778, 15.89063573, 15.89731598, 15.9278903 ,\n",
       "        15.92780399, 15.85235143, 15.9606638 , 15.96019626, 15.69474888]),\n",
       " 'score_time': array([0.06042004, 0.06500506, 0.06203985, 0.05903721, 0.06000781,\n",
       "        0.05900121, 0.06000686, 0.06196642, 0.05926394, 0.05899811]),\n",
       " 'test_accuracy': array([0.881     , 0.87157143, 0.87257143, 0.87871429, 0.87285714,\n",
       "        0.86871429, 0.87585714, 0.88128571, 0.87642857, 0.888     ]),\n",
       " 'test_precision_macro': array([0.87978784, 0.87054273, 0.87149805, 0.87698217, 0.87123476,\n",
       "        0.86687913, 0.87444283, 0.88011193, 0.87547697, 0.88651082]),\n",
       " 'test_recall_macro': array([0.87955171, 0.86988434, 0.87099412, 0.87711906, 0.87117938,\n",
       "        0.86702432, 0.87434199, 0.87967693, 0.87486849, 0.88624334]),\n",
       " 'test_f1_macro': array([0.87960016, 0.86994333, 0.87104381, 0.87694891, 0.87116967,\n",
       "        0.86671505, 0.8742181 , 0.87976317, 0.8750029 , 0.88620272]),\n",
       " 'test_roc_auc_ovr': array([0.9185973 , 0.91419406, 0.91140242, 0.91812166, 0.91704661,\n",
       "        0.91014965, 0.91743018, 0.919156  , 0.91788929, 0.92356332])}"
      ]
     },
     "execution_count": 7,
     "metadata": {},
     "output_type": "execute_result"
    }
   ],
   "source": [
    "cv_scores"
   ]
  },
  {
   "cell_type": "code",
   "execution_count": 8,
   "id": "ead999a9",
   "metadata": {},
   "outputs": [
    {
     "data": {
      "text/html": [
       "<div>\n",
       "<style scoped>\n",
       "    .dataframe tbody tr th:only-of-type {\n",
       "        vertical-align: middle;\n",
       "    }\n",
       "\n",
       "    .dataframe tbody tr th {\n",
       "        vertical-align: top;\n",
       "    }\n",
       "\n",
       "    .dataframe thead th {\n",
       "        text-align: right;\n",
       "    }\n",
       "</style>\n",
       "<table border=\"1\" class=\"dataframe\">\n",
       "  <thead>\n",
       "    <tr style=\"text-align: right;\">\n",
       "      <th></th>\n",
       "      <th>Metric</th>\n",
       "      <th>Mean</th>\n",
       "      <th>S.D</th>\n",
       "    </tr>\n",
       "  </thead>\n",
       "  <tbody>\n",
       "    <tr>\n",
       "      <th>0</th>\n",
       "      <td>accuracy</td>\n",
       "      <td>0.876700</td>\n",
       "      <td>0.005422</td>\n",
       "    </tr>\n",
       "    <tr>\n",
       "      <th>1</th>\n",
       "      <td>precision_macro</td>\n",
       "      <td>0.875347</td>\n",
       "      <td>0.005450</td>\n",
       "    </tr>\n",
       "    <tr>\n",
       "      <th>2</th>\n",
       "      <td>recall_macro</td>\n",
       "      <td>0.875088</td>\n",
       "      <td>0.005425</td>\n",
       "    </tr>\n",
       "    <tr>\n",
       "      <th>3</th>\n",
       "      <td>f1_macro</td>\n",
       "      <td>0.875061</td>\n",
       "      <td>0.005461</td>\n",
       "    </tr>\n",
       "    <tr>\n",
       "      <th>4</th>\n",
       "      <td>roc_auc_ovr</td>\n",
       "      <td>0.916755</td>\n",
       "      <td>0.003715</td>\n",
       "    </tr>\n",
       "  </tbody>\n",
       "</table>\n",
       "</div>"
      ],
      "text/plain": [
       "            Metric      Mean       S.D\n",
       "0         accuracy  0.876700  0.005422\n",
       "1  precision_macro  0.875347  0.005450\n",
       "2     recall_macro  0.875088  0.005425\n",
       "3         f1_macro  0.875061  0.005461\n",
       "4      roc_auc_ovr  0.916755  0.003715"
      ]
     },
     "execution_count": 8,
     "metadata": {},
     "output_type": "execute_result"
    }
   ],
   "source": [
    "decision_tree_df"
   ]
  },
  {
   "cell_type": "markdown",
   "id": "99216e37",
   "metadata": {},
   "source": [
    "### Random forest "
   ]
  },
  {
   "cell_type": "code",
   "execution_count": 9,
   "id": "b2d8a673",
   "metadata": {},
   "outputs": [],
   "source": [
    "from sklearn.ensemble import RandomForestClassifier\n",
    "\n",
    "rf_model = RandomForestClassifier(n_estimators=100, random_state=1,  max_depth=15)\n",
    "\n",
    "scoring = ('accuracy','precision_macro', 'recall_macro','f1_macro','roc_auc_ovr')\n",
    "cv_scores = cross_validate(rf_model, X, y, cv = 10, scoring = scoring) # Stratified K Fold\n",
    "for score in scoring:\n",
    "    score_test = 'test_'+ score\n",
    "    score_mean = cv_scores[score_test].mean()\n",
    "    score_sd = cv_scores[score_test].std()\n",
    "    random_forest_df = random_forest_df.append({'Metric': score,'Mean': score_mean ,'S.D': score_sd}, ignore_index = True)\n",
    "    "
   ]
  },
  {
   "cell_type": "code",
   "execution_count": 10,
   "id": "cd73b4e9",
   "metadata": {},
   "outputs": [
    {
     "data": {
      "text/plain": [
       "{'fit_time': array([41.93547702, 40.21617603, 40.66014576, 40.31367493, 40.5130651 ,\n",
       "        40.37159586, 40.4578476 , 40.77128863, 41.47309566, 40.53136396]),\n",
       " 'score_time': array([0.53608179, 0.54049706, 0.54315734, 0.53508615, 0.54133511,\n",
       "        0.54145551, 0.53819633, 0.53679752, 0.53818774, 0.53772855]),\n",
       " 'test_accuracy': array([0.96942857, 0.96185714, 0.96642857, 0.96314286, 0.96014286,\n",
       "        0.96542857, 0.95842857, 0.966     , 0.96728571, 0.97242857]),\n",
       " 'test_precision_macro': array([0.96943519, 0.96191508, 0.96627043, 0.96288338, 0.96013446,\n",
       "        0.96516363, 0.95827578, 0.96581742, 0.96724998, 0.97212664]),\n",
       " 'test_recall_macro': array([0.96935818, 0.96161062, 0.96616191, 0.96280234, 0.95989032,\n",
       "        0.96524393, 0.95821832, 0.96556158, 0.96691756, 0.97214178]),\n",
       " 'test_f1_macro': array([0.96937889, 0.96164903, 0.9661749 , 0.96282263, 0.95994538,\n",
       "        0.96516351, 0.95821268, 0.96564829, 0.96705386, 0.97212354]),\n",
       " 'test_roc_auc_ovr': array([0.99896886, 0.99853754, 0.99890364, 0.99890401, 0.99878023,\n",
       "        0.99877803, 0.99850464, 0.99873644, 0.99877922, 0.99932353])}"
      ]
     },
     "execution_count": 10,
     "metadata": {},
     "output_type": "execute_result"
    }
   ],
   "source": [
    "cv_scores"
   ]
  },
  {
   "cell_type": "code",
   "execution_count": 11,
   "id": "14595255",
   "metadata": {},
   "outputs": [
    {
     "data": {
      "text/html": [
       "<div>\n",
       "<style scoped>\n",
       "    .dataframe tbody tr th:only-of-type {\n",
       "        vertical-align: middle;\n",
       "    }\n",
       "\n",
       "    .dataframe tbody tr th {\n",
       "        vertical-align: top;\n",
       "    }\n",
       "\n",
       "    .dataframe thead th {\n",
       "        text-align: right;\n",
       "    }\n",
       "</style>\n",
       "<table border=\"1\" class=\"dataframe\">\n",
       "  <thead>\n",
       "    <tr style=\"text-align: right;\">\n",
       "      <th></th>\n",
       "      <th>Metric</th>\n",
       "      <th>Mean</th>\n",
       "      <th>S.D</th>\n",
       "    </tr>\n",
       "  </thead>\n",
       "  <tbody>\n",
       "    <tr>\n",
       "      <th>0</th>\n",
       "      <td>accuracy</td>\n",
       "      <td>0.965057</td>\n",
       "      <td>0.004041</td>\n",
       "    </tr>\n",
       "    <tr>\n",
       "      <th>1</th>\n",
       "      <td>precision_macro</td>\n",
       "      <td>0.964927</td>\n",
       "      <td>0.004008</td>\n",
       "    </tr>\n",
       "    <tr>\n",
       "      <th>2</th>\n",
       "      <td>recall_macro</td>\n",
       "      <td>0.964791</td>\n",
       "      <td>0.004042</td>\n",
       "    </tr>\n",
       "    <tr>\n",
       "      <th>3</th>\n",
       "      <td>f1_macro</td>\n",
       "      <td>0.964817</td>\n",
       "      <td>0.004040</td>\n",
       "    </tr>\n",
       "    <tr>\n",
       "      <th>4</th>\n",
       "      <td>roc_auc_ovr</td>\n",
       "      <td>0.998822</td>\n",
       "      <td>0.000219</td>\n",
       "    </tr>\n",
       "  </tbody>\n",
       "</table>\n",
       "</div>"
      ],
      "text/plain": [
       "            Metric      Mean       S.D\n",
       "0         accuracy  0.965057  0.004041\n",
       "1  precision_macro  0.964927  0.004008\n",
       "2     recall_macro  0.964791  0.004042\n",
       "3         f1_macro  0.964817  0.004040\n",
       "4      roc_auc_ovr  0.998822  0.000219"
      ]
     },
     "execution_count": 11,
     "metadata": {},
     "output_type": "execute_result"
    }
   ],
   "source": [
    " random_forest_df"
   ]
  },
  {
   "cell_type": "markdown",
   "id": "517f6acf",
   "metadata": {},
   "source": [
    "### Logistic Regression"
   ]
  },
  {
   "cell_type": "code",
   "execution_count": 12,
   "id": "6eb3b0ac",
   "metadata": {},
   "outputs": [],
   "source": [
    "#  OneVsRest Classifier\n",
    "\n",
    "from sklearn.linear_model import LogisticRegression \n",
    "from sklearn.multiclass import OneVsRestClassifier\n",
    "\n",
    "ovr_logistic_model = OneVsRestClassifier(LogisticRegression(max_iter=100))\n",
    "\n",
    "scoring = ('accuracy','precision_macro', 'recall_macro','f1_macro','roc_auc_ovr')\n",
    "cv_scores = cross_validate(ovr_logistic_model, X, y, cv = 10, scoring = scoring) #Stratified K Fold\n",
    "\n",
    "for score in scoring:\n",
    "    score_test = 'test_'+ score\n",
    "    score_mean = cv_scores[score_test].mean()\n",
    "    score_sd = cv_scores[score_test].std()\n",
    "    ovr_logistic_df = ovr_logistic_df.append({'Metric': score,'Mean': score_mean ,'S.D': score_sd}, ignore_index = True)\n",
    "\n",
    "    "
   ]
  },
  {
   "cell_type": "code",
   "execution_count": 14,
   "id": "d50e348f",
   "metadata": {},
   "outputs": [
    {
     "data": {
      "text/plain": [
       "{'fit_time': array([73.38549662, 77.5005219 , 73.47324872, 70.77727675, 69.74697781,\n",
       "        70.24443316, 72.82772827, 70.55205679, 68.85972738, 69.77379513]),\n",
       " 'score_time': array([0.39213824, 0.48881578, 0.44461608, 0.36927176, 0.40272641,\n",
       "        0.47095561, 0.39788508, 0.44420052, 0.39802456, 0.51430941]),\n",
       " 'test_accuracy': array([0.921     , 0.90671429, 0.91685714, 0.91671429, 0.90514286,\n",
       "        0.90742857, 0.905     , 0.91057143, 0.92085714, 0.92614286]),\n",
       " 'test_precision_macro': array([0.9200229 , 0.90605449, 0.91617635, 0.9158006 , 0.90418323,\n",
       "        0.90611699, 0.90396687, 0.90974888, 0.92045691, 0.92542318]),\n",
       " 'test_recall_macro': array([0.91966002, 0.90523453, 0.91580807, 0.91534136, 0.90384509,\n",
       "        0.90601594, 0.90368651, 0.90939846, 0.9194065 , 0.92481733]),\n",
       " 'test_f1_macro': array([0.91969974, 0.90530972, 0.91593541, 0.91543716, 0.90389086,\n",
       "        0.90601296, 0.90363122, 0.90932344, 0.91967996, 0.92489455]),\n",
       " 'test_roc_auc_ovr': array([0.98970982, 0.98623145, 0.98772595, 0.98842798, 0.98740764,\n",
       "        0.98728547, 0.98624257, 0.98680328, 0.9892911 , 0.99022942])}"
      ]
     },
     "execution_count": 14,
     "metadata": {},
     "output_type": "execute_result"
    }
   ],
   "source": [
    "cv_scores"
   ]
  },
  {
   "cell_type": "code",
   "execution_count": 15,
   "id": "b423e17b",
   "metadata": {},
   "outputs": [
    {
     "data": {
      "text/html": [
       "<div>\n",
       "<style scoped>\n",
       "    .dataframe tbody tr th:only-of-type {\n",
       "        vertical-align: middle;\n",
       "    }\n",
       "\n",
       "    .dataframe tbody tr th {\n",
       "        vertical-align: top;\n",
       "    }\n",
       "\n",
       "    .dataframe thead th {\n",
       "        text-align: right;\n",
       "    }\n",
       "</style>\n",
       "<table border=\"1\" class=\"dataframe\">\n",
       "  <thead>\n",
       "    <tr style=\"text-align: right;\">\n",
       "      <th></th>\n",
       "      <th>Metric</th>\n",
       "      <th>Mean</th>\n",
       "      <th>S.D</th>\n",
       "    </tr>\n",
       "  </thead>\n",
       "  <tbody>\n",
       "    <tr>\n",
       "      <th>0</th>\n",
       "      <td>accuracy</td>\n",
       "      <td>0.913643</td>\n",
       "      <td>0.007247</td>\n",
       "    </tr>\n",
       "    <tr>\n",
       "      <th>1</th>\n",
       "      <td>precision_macro</td>\n",
       "      <td>0.912795</td>\n",
       "      <td>0.007364</td>\n",
       "    </tr>\n",
       "    <tr>\n",
       "      <th>2</th>\n",
       "      <td>recall_macro</td>\n",
       "      <td>0.912321</td>\n",
       "      <td>0.007255</td>\n",
       "    </tr>\n",
       "    <tr>\n",
       "      <th>3</th>\n",
       "      <td>f1_macro</td>\n",
       "      <td>0.912382</td>\n",
       "      <td>0.007307</td>\n",
       "    </tr>\n",
       "    <tr>\n",
       "      <th>4</th>\n",
       "      <td>roc_auc_ovr</td>\n",
       "      <td>0.987935</td>\n",
       "      <td>0.001352</td>\n",
       "    </tr>\n",
       "  </tbody>\n",
       "</table>\n",
       "</div>"
      ],
      "text/plain": [
       "            Metric      Mean       S.D\n",
       "0         accuracy  0.913643  0.007247\n",
       "1  precision_macro  0.912795  0.007364\n",
       "2     recall_macro  0.912321  0.007255\n",
       "3         f1_macro  0.912382  0.007307\n",
       "4      roc_auc_ovr  0.987935  0.001352"
      ]
     },
     "execution_count": 15,
     "metadata": {},
     "output_type": "execute_result"
    }
   ],
   "source": [
    "ovr_logistic_df"
   ]
  },
  {
   "cell_type": "code",
   "execution_count": 16,
   "id": "6d7bc5a6",
   "metadata": {},
   "outputs": [],
   "source": [
    "# OneVsOne Classifier\n",
    "from sklearn.multiclass import OneVsOneClassifier\n",
    "\n",
    "ovo_logistic_model = OneVsOneClassifier(LogisticRegression(max_iter=100))\n",
    "\n",
    "scoring = ('accuracy','precision_macro', 'recall_macro','f1_macro')\n",
    "cv_scores = cross_validate(ovo_logistic_model, X, y, cv = 10, scoring = scoring) #Stratified K Fold\n",
    "\n",
    "for score in scoring:\n",
    "    score_test = 'test_'+ score\n",
    "    score_mean = cv_scores[score_test].mean()\n",
    "    score_sd = cv_scores[score_test].std()\n",
    "    ovo_logistic_df = ovo_logistic_df.append({'Metric': score,'Mean': score_mean ,'S.D': score_sd}, ignore_index = True)\n",
    "\n",
    "    "
   ]
  },
  {
   "cell_type": "code",
   "execution_count": 17,
   "id": "8edaaf48",
   "metadata": {},
   "outputs": [
    {
     "data": {
      "text/plain": [
       "{'fit_time': array([64.25615096, 64.63351274, 63.53310657, 68.19179964, 65.70891595,\n",
       "        63.93925714, 66.22703004, 65.02676654, 68.8479054 , 66.39923358]),\n",
       " 'score_time': array([1.61985159, 1.61324215, 1.63325477, 1.65680075, 1.63799405,\n",
       "        1.6605525 , 1.67176795, 1.774261  , 1.67633533, 1.68071198]),\n",
       " 'test_accuracy': array([0.92771429, 0.92528571, 0.923     , 0.92514286, 0.92085714,\n",
       "        0.91671429, 0.919     , 0.92357143, 0.92971429, 0.93985714]),\n",
       " 'test_precision_macro': array([0.9270421 , 0.92469011, 0.92261725, 0.92433237, 0.92024765,\n",
       "        0.91613367, 0.91808341, 0.92253586, 0.92893222, 0.9391874 ]),\n",
       " 'test_recall_macro': array([0.92684323, 0.92412637, 0.92179727, 0.9241163 , 0.91978486,\n",
       "        0.91554674, 0.91774926, 0.92240335, 0.92844679, 0.93892602]),\n",
       " 'test_f1_macro': array([0.92685096, 0.92428502, 0.92208436, 0.9241687 , 0.9198577 ,\n",
       "        0.9156226 , 0.91783203, 0.92234996, 0.92859427, 0.93894028])}"
      ]
     },
     "execution_count": 17,
     "metadata": {},
     "output_type": "execute_result"
    }
   ],
   "source": [
    "cv_scores"
   ]
  },
  {
   "cell_type": "code",
   "execution_count": 18,
   "id": "0b916d7c",
   "metadata": {},
   "outputs": [
    {
     "data": {
      "text/html": [
       "<div>\n",
       "<style scoped>\n",
       "    .dataframe tbody tr th:only-of-type {\n",
       "        vertical-align: middle;\n",
       "    }\n",
       "\n",
       "    .dataframe tbody tr th {\n",
       "        vertical-align: top;\n",
       "    }\n",
       "\n",
       "    .dataframe thead th {\n",
       "        text-align: right;\n",
       "    }\n",
       "</style>\n",
       "<table border=\"1\" class=\"dataframe\">\n",
       "  <thead>\n",
       "    <tr style=\"text-align: right;\">\n",
       "      <th></th>\n",
       "      <th>Metric</th>\n",
       "      <th>Mean</th>\n",
       "      <th>S.D</th>\n",
       "    </tr>\n",
       "  </thead>\n",
       "  <tbody>\n",
       "    <tr>\n",
       "      <th>0</th>\n",
       "      <td>accuracy</td>\n",
       "      <td>0.925086</td>\n",
       "      <td>0.006150</td>\n",
       "    </tr>\n",
       "    <tr>\n",
       "      <th>1</th>\n",
       "      <td>precision_macro</td>\n",
       "      <td>0.924380</td>\n",
       "      <td>0.006151</td>\n",
       "    </tr>\n",
       "    <tr>\n",
       "      <th>2</th>\n",
       "      <td>recall_macro</td>\n",
       "      <td>0.923974</td>\n",
       "      <td>0.006216</td>\n",
       "    </tr>\n",
       "    <tr>\n",
       "      <th>3</th>\n",
       "      <td>f1_macro</td>\n",
       "      <td>0.924059</td>\n",
       "      <td>0.006199</td>\n",
       "    </tr>\n",
       "  </tbody>\n",
       "</table>\n",
       "</div>"
      ],
      "text/plain": [
       "            Metric      Mean       S.D\n",
       "0         accuracy  0.925086  0.006150\n",
       "1  precision_macro  0.924380  0.006151\n",
       "2     recall_macro  0.923974  0.006216\n",
       "3         f1_macro  0.924059  0.006199"
      ]
     },
     "execution_count": 18,
     "metadata": {},
     "output_type": "execute_result"
    }
   ],
   "source": [
    "ovo_logistic_df"
   ]
  }
 ],
 "metadata": {
  "kernelspec": {
   "display_name": "Python 3 (ipykernel)",
   "language": "python",
   "name": "python3"
  },
  "language_info": {
   "codemirror_mode": {
    "name": "ipython",
    "version": 3
   },
   "file_extension": ".py",
   "mimetype": "text/x-python",
   "name": "python",
   "nbconvert_exporter": "python",
   "pygments_lexer": "ipython3",
   "version": "3.10.7"
  }
 },
 "nbformat": 4,
 "nbformat_minor": 5
}
